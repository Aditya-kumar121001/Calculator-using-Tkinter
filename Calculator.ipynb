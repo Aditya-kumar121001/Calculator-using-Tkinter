{
 "cells": [
  {
   "cell_type": "markdown",
   "id": "495f5fd4",
   "metadata": {},
   "source": [
    "# Calculator"
   ]
  },
  {
   "cell_type": "code",
   "execution_count": 30,
   "id": "6e1d5f7d",
   "metadata": {},
   "outputs": [],
   "source": [
    "from tkinter import *"
   ]
  },
  {
   "cell_type": "code",
   "execution_count": 31,
   "id": "b92fc636",
   "metadata": {},
   "outputs": [],
   "source": [
    "expression = \"\""
   ]
  },
  {
   "cell_type": "code",
   "execution_count": 40,
   "id": "046a5250",
   "metadata": {},
   "outputs": [],
   "source": [
    "def press(num):\n",
    "    # point out the global expression variable\n",
    "    global expression\n",
    "    # concatenation of string\n",
    "    expression = expression + str(num)\n",
    "    # update the expression by using set method\n",
    "    equation.set(expression)"
   ]
  },
  {
   "cell_type": "code",
   "execution_count": 41,
   "id": "b66b0901",
   "metadata": {},
   "outputs": [],
   "source": [
    "def equalpress():\n",
    "    try:\n",
    "        global expression\n",
    "    # eval function evaluate the expression\n",
    "    # and str function convert the result\n",
    "    # into string\n",
    "        total = str(eval(expression))\n",
    "        equation.set(total)\n",
    "    # initialze the expression variable\n",
    "    # by empty string\n",
    "        expression = \"\"\n",
    "    # if error is generate then handle\n",
    "    # by the except block\n",
    "    except:\n",
    "        equation.set(\" error \")\n",
    "        expression = \"\""
   ]
  },
  {
   "cell_type": "code",
   "execution_count": 42,
   "id": "aae4a6c9",
   "metadata": {},
   "outputs": [],
   "source": [
    "def clear():\n",
    "    global expression\n",
    "    expression = \"\"\n",
    "    equation.set(\"\")"
   ]
  },
  {
   "cell_type": "code",
   "execution_count": 43,
   "id": "3e59a617",
   "metadata": {},
   "outputs": [],
   "source": [
    "# Driver code\n",
    "if __name__ == \"__main__\":\n",
    "# create a GUI window\n",
    "    gui = Tk()\n",
    "# set the background colour of GUI window\n",
    "    gui.configure(background=\"light blue\")\n",
    "# set the title of GUI window\n",
    "    gui.title(\"Simple Calculator\")\n",
    "# set the configuration of GUI window\n",
    "    gui.geometry(\"400x300\")\n",
    "# StringVar() is the variable class\n",
    "# we create an instance of this class\n",
    "    equation = StringVar()\n",
    "# create the text entry box for\n",
    "# showing the expression .\n",
    "    expression_field = Entry(gui, textvariable=equation)\n",
    "# grid method is used for placing\n",
    "# the widgets at respective positions\n",
    "# in table like structure .\n",
    "    expression_field.grid(columnspan=4, ipadx=70)\n",
    "    equation.set('enter your expression')\n",
    "# create a Buttons and place at a particular\n",
    "# location inside the root window .\n",
    "# when user press the button, the command or\n",
    "# function affiliated to that button is executed .\n",
    "    button1 = Button(gui, text=' 1 ', fg='black', bg='white',\n",
    "        command=lambda: press(1), height=1, width=7)\n",
    "    button1.grid(row=2, column=0)\n",
    "    button2 = Button(gui, text=' 2 ', fg='black', bg='white',\n",
    "        command=lambda: press(2), height=1, width=7)\n",
    "    button2.grid(row=2, column=1)\n",
    "    button3 = Button(gui, text=' 3 ', fg='black', bg='white',\n",
    "        command=lambda: press(3), height=1, width=7)\n",
    "    button3.grid(row=2, column=2)\n",
    "    button4 = Button(gui, text=' 4 ', fg='black', bg='white',\n",
    "        command=lambda: press(4), height=1, width=7)\n",
    "    button4.grid(row=3, column=0)\n",
    "    button5 = Button(gui, text=' 5 ', fg='black', bg='white',\n",
    "        command=lambda: press(5), height=1, width=7)\n",
    "    button5.grid(row=3, column=1)\n",
    "    button6 = Button(gui, text=' 6 ', fg='black', bg='white',\n",
    "        command=lambda: press(6), height=1, width=7)\n",
    "    button6.grid(row=3, column=2)\n",
    "    button7 = Button(gui, text=' 7 ', fg='black', bg='white',\n",
    "        command=lambda: press(7), height=1, width=7)\n",
    "    button7.grid(row=4, column=0)\n",
    "    button8 = Button(gui, text=' 8 ', fg='black', bg='white',\n",
    "        command=lambda: press(8), height=1, width=7)\n",
    "    button8.grid(row=4, column=1)\n",
    "    button9 = Button(gui, text=' 9 ', fg='black', bg='white',\n",
    "        command=lambda: press(9), height=1, width=7)\n",
    "    button9.grid(row=4, column=2)\n",
    "    button0 = Button(gui, text=' 0 ', fg='black', bg='white',\n",
    "        command=lambda: press(0), height=1, width=7)\n",
    "    button0.grid(row=5, column=0)\n",
    "    plus = Button(gui, text=' + ', fg='black', bg='white',\n",
    "        command=lambda: press(\"+\"), height=1, width=7)\n",
    "    plus.grid(row=2, column=3)\n",
    "    minus = Button(gui, text=' - ', fg='black', bg='white',\n",
    "        command=lambda: press(\"-\"), height=1, width=7)\n",
    "    minus.grid(row=3, column=3)\n",
    "    multiply = Button(gui, text=' * ', fg='black', bg='white',\n",
    "        command=lambda: press(\"*\"), height=1, width=7)\n",
    "    multiply.grid(row=4, column=3)\n",
    "    divide = Button(gui, text=' / ', fg='black', bg='white',\n",
    "        command=lambda: press(\"/\"), height=1, width=7)\n",
    "    divide.grid(row=5, column=3)\n",
    "    equal = Button(gui, text=' = ', fg='black', bg='white',\n",
    "        command=equalpress, height=1, width=7)\n",
    "    equal.grid(row=5, column=2)\n",
    "    clear = Button(gui, text='Clear', fg='black', bg='white',\n",
    "        command=clear, height=1, width=7)\n",
    "    clear.grid(row=5, column='1')\n",
    "    Decimal= Button(gui, text='.', fg='black', bg='white',\n",
    "    command=lambda: press('.'), height=1, width=7)\n",
    "    Decimal.grid(row=6, column=0)\n",
    "# start the GUI\n",
    "    gui.mainloop()"
   ]
  },
  {
   "cell_type": "code",
   "execution_count": null,
   "id": "c705c6fe",
   "metadata": {},
   "outputs": [],
   "source": []
  }
 ],
 "metadata": {
  "kernelspec": {
   "display_name": "Python 3",
   "language": "python",
   "name": "python3"
  },
  "language_info": {
   "codemirror_mode": {
    "name": "ipython",
    "version": 3
   },
   "file_extension": ".py",
   "mimetype": "text/x-python",
   "name": "python",
   "nbconvert_exporter": "python",
   "pygments_lexer": "ipython3",
   "version": "3.8.8"
  }
 },
 "nbformat": 4,
 "nbformat_minor": 5
}
